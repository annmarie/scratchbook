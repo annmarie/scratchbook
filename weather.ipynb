{
 "cells": [
  {
   "cell_type": "code",
   "execution_count": 1,
   "metadata": {},
   "outputs": [
    {
     "name": "stdout",
     "output_type": "stream",
     "text": [
      "LIC - Overcast. Drizzle starting in 13 min., stopping 10 min. later. Mostly cloudy throughout the day. Light rain throughout the week, with high temperatures falling to 46°F on Sunday.\n",
      "---\n",
      "W57 - Overcast. Drizzle starting in 12 min., stopping 11 min. later. Mostly cloudy throughout the day. Light rain throughout the week, with high temperatures falling to 46°F on Sunday.\n",
      "---\n",
      "NYU - Overcast. Drizzle starting in 10 min., stopping 11 min. later. Mostly cloudy throughout the day. Light rain throughout the week, with high temperatures falling to 46°F on Sunday.\n",
      "---\n"
     ]
    }
   ],
   "source": [
    "from darksky import simple_forecast_by_key\n",
    "\n",
    "forecasts = {}\n",
    "for key in ['LIC', 'W57', 'NYU']:\n",
    "    forecasts[key] = simple_forecast_by_key(key)\n",
    "\n",
    "for key,forecast in forecasts.items():\n",
    "    print(key, \"-\", forecast)\n",
    "    print('---')"
   ]
  },
  {
   "cell_type": "code",
   "execution_count": 9,
   "metadata": {
    "scrolled": false
   },
   "outputs": [
    {
     "ename": "KeyError",
     "evalue": "'bob'",
     "output_type": "error",
     "traceback": [
      "\u001b[0;31m---------------------------------------------------------------------------\u001b[0m",
      "\u001b[0;31mKeyError\u001b[0m                                  Traceback (most recent call last)",
      "\u001b[0;32m<ipython-input-9-ebb94a1e7bc4>\u001b[0m in \u001b[0;36m<module>\u001b[0;34m\u001b[0m\n\u001b[0;32m----> 1\u001b[0;31m \u001b[0msimple_forecast_by_key\u001b[0m\u001b[0;34m(\u001b[0m\u001b[0;34m'bob'\u001b[0m\u001b[0;34m)\u001b[0m\u001b[0;34m\u001b[0m\u001b[0m\n\u001b[0m",
      "\u001b[0;32m~/workspace/scratchbook/darksky.py\u001b[0m in \u001b[0;36msimple_forecast_by_key\u001b[0;34m(key)\u001b[0m\n\u001b[1;32m     23\u001b[0m         \u001b[0;34m'W57'\u001b[0m\u001b[0;34m:\u001b[0m \u001b[0;34m'40.765565,-73.979787'\u001b[0m\u001b[0;34m,\u001b[0m\u001b[0;34m\u001b[0m\u001b[0m\n\u001b[1;32m     24\u001b[0m     }\n\u001b[0;32m---> 25\u001b[0;31m     \u001b[0;32mif\u001b[0m \u001b[0mkey\u001b[0m \u001b[0;32min\u001b[0m \u001b[0mlatlongs\u001b[0m\u001b[0;34m.\u001b[0m\u001b[0mkeys\u001b[0m\u001b[0;34m(\u001b[0m\u001b[0;34m)\u001b[0m\u001b[0;34m:\u001b[0m\u001b[0;34m\u001b[0m\u001b[0m\n\u001b[0m\u001b[1;32m     26\u001b[0m         \u001b[0;32mreturn\u001b[0m \u001b[0msimple_forecast\u001b[0m\u001b[0;34m(\u001b[0m\u001b[0mlatlongs\u001b[0m\u001b[0;34m[\u001b[0m\u001b[0mkey\u001b[0m\u001b[0;34m]\u001b[0m\u001b[0;34m)\u001b[0m\u001b[0;34m\u001b[0m\u001b[0m\n\u001b[1;32m     27\u001b[0m     \u001b[0;32mreturn\u001b[0m \u001b[0;34m{\u001b[0m\u001b[0;34m}\u001b[0m\u001b[0;34m\u001b[0m\u001b[0m\n",
      "\u001b[0;31mKeyError\u001b[0m: 'bob'"
     ]
    }
   ],
   "source": [
    "simple_forecast_by_key('bob')"
   ]
  },
  {
   "cell_type": "code",
   "execution_count": 12,
   "metadata": {},
   "outputs": [],
   "source": [
    "    latlongs = {\n",
    "        'LIC': '40.741897,-73.954211',\n",
    "        'NYU': '40.729932,-73.998405',\n",
    "        'W57': '40.765565,-73.979787',\n",
    "    }\n",
    "    \n",
    "    key = 'bob'\n",
    "    \n",
    "    if key in latlongs.keys():\n",
    "        print(\"hi\")"
   ]
  }
 ],
 "metadata": {
  "kernelspec": {
   "display_name": "Python 3",
   "language": "python",
   "name": "python3"
  },
  "language_info": {
   "codemirror_mode": {
    "name": "ipython",
    "version": 3
   },
   "file_extension": ".py",
   "mimetype": "text/x-python",
   "name": "python",
   "nbconvert_exporter": "python",
   "pygments_lexer": "ipython3",
   "version": "3.7.0"
  }
 },
 "nbformat": 4,
 "nbformat_minor": 2
}
