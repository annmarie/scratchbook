{
 "cells": [
  {
   "cell_type": "code",
   "execution_count": 1,
   "metadata": {},
   "outputs": [
    {
     "name": "stdout",
     "output_type": "stream",
     "text": [
      "LIC: Partly Cloudy. Partly cloudy for the hour. Rain starting tomorrow morning, continuing until tomorrow evening. Rain tomorrow and Tuesday, with high temperatures peaking at 65°F on Tuesday.\n",
      "---\n",
      "W57: Partly Cloudy. Partly cloudy for the hour. Rain starting tomorrow morning, continuing until tomorrow evening. Rain tomorrow and Tuesday, with high temperatures peaking at 64°F on Tuesday.\n",
      "---\n",
      "NYU: Partly Cloudy. Partly cloudy for the hour. Rain starting tomorrow morning, continuing until tomorrow evening. Rain tomorrow and Tuesday, with high temperatures peaking at 64°F on Tuesday.\n",
      "---\n"
     ]
    }
   ],
   "source": [
    "import requests\n",
    "\n",
    "def get_forecast(ll):\n",
    "    url = 'https://api.darksky.net/forecast'\n",
    "    key = 'dcb4f74964e7a1327be2b2b23557c927'\n",
    "    return requests.get('{}/{}/{}'.format(url, key, ll))\n",
    "\n",
    "def simple_forecast(latlong):\n",
    "    resp = get_forecast(latlong)\n",
    "    rset = resp.json()\n",
    "    summary = [\n",
    "        rset['currently']['summary']+\".\",\n",
    "        rset['minutely']['summary'],\n",
    "        rset['hourly']['summary'],\n",
    "        rset['daily']['summary'],\n",
    "    ]\n",
    "    return \" \".join(summary)\n",
    "\n",
    "def simple_forecast_by_key(key):\n",
    "    latlongs = {\n",
    "        'LIC': '40.741897,-73.954211',\n",
    "        'NYU': '40.729932,-73.998405',\n",
    "        'W57': '40.765565,-73.979787',\n",
    "    }\n",
    "    return simple_forecast(latlongs[key])\n",
    "\n",
    "\n",
    "if __name__ == '__main__':\n",
    "    forecasts = []\n",
    "    for key in ['LIC', 'W57', 'NYU']:\n",
    "        forecasts.append(key+': '+simple_forecast_by_key(key))\n",
    "    \n",
    "    for forecast in forecasts:\n",
    "        print(forecast)\n",
    "        print('---')\n"
   ]
  },
  {
   "cell_type": "code",
   "execution_count": null,
   "metadata": {},
   "outputs": [],
   "source": []
  }
 ],
 "metadata": {
  "kernelspec": {
   "display_name": "Python 3",
   "language": "python",
   "name": "python3"
  },
  "language_info": {
   "codemirror_mode": {
    "name": "ipython",
    "version": 3
   },
   "file_extension": ".py",
   "mimetype": "text/x-python",
   "name": "python",
   "nbconvert_exporter": "python",
   "pygments_lexer": "ipython3",
   "version": "3.7.0"
  }
 },
 "nbformat": 4,
 "nbformat_minor": 2
}
