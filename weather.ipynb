{
 "cells": [
  {
   "cell_type": "code",
   "execution_count": 1,
   "metadata": {},
   "outputs": [
    {
     "name": "stdout",
     "output_type": "stream",
     "text": [
      "LIC: Partly Cloudy. Partly cloudy for the hour. Rain starting tomorrow morning, continuing until tomorrow evening. Rain tomorrow and Tuesday, with high temperatures peaking at 65°F on Tuesday.\n",
      "---\n",
      "W57: Partly Cloudy. Partly cloudy for the hour. Rain starting tomorrow morning, continuing until tomorrow evening. Rain tomorrow and Tuesday, with high temperatures peaking at 64°F on Tuesday.\n",
      "---\n",
      "NYU: Partly Cloudy. Partly cloudy for the hour. Rain starting tomorrow morning, continuing until tomorrow evening. Rain tomorrow and Tuesday, with high temperatures peaking at 64°F on Tuesday.\n",
      "---\n"
     ]
    }
   ],
   "source": [
    "from darksky import simple_forecast_by_key\n",
    "\n",
    "forecasts = []\n",
    "for key in ['LIC', 'W57', 'NYU']:\n",
    "    forecasts.append(key+': '+simple_forecast_by_key(key))\n",
    "\n",
    "for forecast in forecasts:\n",
    "    print(forecast)\n",
    "    print('---')"
   ]
  },
  {
   "cell_type": "code",
   "execution_count": null,
   "metadata": {},
   "outputs": [],
   "source": []
  }
 ],
 "metadata": {
  "kernelspec": {
   "display_name": "Python 3",
   "language": "python",
   "name": "python3"
  },
  "language_info": {
   "codemirror_mode": {
    "name": "ipython",
    "version": 3
   },
   "file_extension": ".py",
   "mimetype": "text/x-python",
   "name": "python",
   "nbconvert_exporter": "python",
   "pygments_lexer": "ipython3",
   "version": "3.7.0"
  }
 },
 "nbformat": 4,
 "nbformat_minor": 2
}
