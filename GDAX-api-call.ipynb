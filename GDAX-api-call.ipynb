{
 "cells": [
  {
   "cell_type": "code",
   "execution_count": 1,
   "metadata": {},
   "outputs": [],
   "source": [
    "import requests\n",
    "import pprint\n",
    "import sys\n",
    "import os\n",
    "import datetime\n",
    "import time\n",
    "import pandas as pd\n",
    "import mysql.connector\n",
    "from mysql.connector import errorcode\n",
    "import argparse\n",
    "import glob\n"
   ]
  },
  {
   "cell_type": "code",
   "execution_count": null,
   "metadata": {},
   "outputs": [],
   "source": [
    "now = time.time()\n",
    "\n",
    "now, int(now), float(now)"
   ]
  },
  {
   "cell_type": "code",
   "execution_count": null,
   "metadata": {
    "scrolled": true
   },
   "outputs": [],
   "source": [
    "resp = requests.get('https://jsonplaceholder.typicode.com/todos')\n",
    "rset = resp.json()\n",
    "for idx,data in enumerate(rset):\n",
    "    print(idx + 1,data['title'])\n"
   ]
  },
  {
   "cell_type": "code",
   "execution_count": 5,
   "metadata": {},
   "outputs": [
    {
     "name": "stdout",
     "output_type": "stream",
     "text": [
      "0 {'id': 'BTC-USDC', 'base_currency': 'BTC', 'quote_currency': 'USDC', 'base_min_size': '0.00100000', 'base_max_size': '70.00000000', 'quote_increment': '0.01000000', 'display_name': 'BTC/USDC', 'status': 'online', 'margin_enabled': False, 'status_message': '', 'min_market_funds': '10', 'max_market_funds': '1000000', 'post_only': False, 'limit_only': False, 'cancel_only': False}\n",
      "1 {'id': 'ETH-USDC', 'base_currency': 'ETH', 'quote_currency': 'USDC', 'base_min_size': '0.01000000', 'base_max_size': '700.00000000', 'quote_increment': '0.01000000', 'display_name': 'ETH/USDC', 'status': 'online', 'margin_enabled': False, 'status_message': '', 'min_market_funds': '10', 'max_market_funds': '1000000', 'post_only': False, 'limit_only': False, 'cancel_only': False}\n",
      "2 {'id': 'ETC-EUR', 'base_currency': 'ETC', 'quote_currency': 'EUR', 'base_min_size': '0.10000000', 'base_max_size': '5000.00000000', 'quote_increment': '0.01000000', 'display_name': 'ETC/EUR', 'status': 'online', 'margin_enabled': False, 'status_message': '', 'min_market_funds': '10', 'max_market_funds': '100000', 'post_only': False, 'limit_only': False, 'cancel_only': False}\n",
      "3 {'id': 'BTC-USD', 'base_currency': 'BTC', 'quote_currency': 'USD', 'base_min_size': '0.00100000', 'base_max_size': '70.00000000', 'quote_increment': '0.01000000', 'display_name': 'BTC/USD', 'status': 'online', 'margin_enabled': False, 'status_message': None, 'min_market_funds': '10', 'max_market_funds': '1000000', 'post_only': False, 'limit_only': False, 'cancel_only': False}\n",
      "4 {'id': 'BCH-BTC', 'base_currency': 'BCH', 'quote_currency': 'BTC', 'base_min_size': '0.01000000', 'base_max_size': '200.00000000', 'quote_increment': '0.00001000', 'display_name': 'BCH/BTC', 'status': 'online', 'margin_enabled': False, 'status_message': None, 'min_market_funds': '0.001', 'max_market_funds': '30', 'post_only': False, 'limit_only': False, 'cancel_only': False}\n",
      "5 {'id': 'BCH-USD', 'base_currency': 'BCH', 'quote_currency': 'USD', 'base_min_size': '0.01000000', 'base_max_size': '350.00000000', 'quote_increment': '0.01000000', 'display_name': 'BCH/USD', 'status': 'online', 'margin_enabled': False, 'status_message': None, 'min_market_funds': '10', 'max_market_funds': '1000000', 'post_only': False, 'limit_only': False, 'cancel_only': False}\n",
      "6 {'id': 'BTC-EUR', 'base_currency': 'BTC', 'quote_currency': 'EUR', 'base_min_size': '0.00100000', 'base_max_size': '50.00000000', 'quote_increment': '0.01000000', 'display_name': 'BTC/EUR', 'status': 'online', 'margin_enabled': False, 'status_message': None, 'min_market_funds': '10', 'max_market_funds': '600000', 'post_only': False, 'limit_only': False, 'cancel_only': False}\n",
      "7 {'id': 'BTC-GBP', 'base_currency': 'BTC', 'quote_currency': 'GBP', 'base_min_size': '0.00100000', 'base_max_size': '20.00000000', 'quote_increment': '0.01000000', 'display_name': 'BTC/GBP', 'status': 'online', 'margin_enabled': False, 'status_message': None, 'min_market_funds': '10', 'max_market_funds': '200000', 'post_only': False, 'limit_only': False, 'cancel_only': False}\n",
      "8 {'id': 'ETH-BTC', 'base_currency': 'ETH', 'quote_currency': 'BTC', 'base_min_size': '0.01000000', 'base_max_size': '600.00000000', 'quote_increment': '0.00001000', 'display_name': 'ETH/BTC', 'status': 'online', 'margin_enabled': False, 'status_message': None, 'min_market_funds': '0.001', 'max_market_funds': '50', 'post_only': False, 'limit_only': False, 'cancel_only': False}\n",
      "9 {'id': 'ETH-EUR', 'base_currency': 'ETH', 'quote_currency': 'EUR', 'base_min_size': '0.01000000', 'base_max_size': '400.00000000', 'quote_increment': '0.01000000', 'display_name': 'ETH/EUR', 'status': 'online', 'margin_enabled': False, 'status_message': None, 'min_market_funds': '10', 'max_market_funds': '400000', 'post_only': False, 'limit_only': False, 'cancel_only': False}\n",
      "10 {'id': 'ETH-USD', 'base_currency': 'ETH', 'quote_currency': 'USD', 'base_min_size': '0.01000000', 'base_max_size': '700.00000000', 'quote_increment': '0.01000000', 'display_name': 'ETH/USD', 'status': 'online', 'margin_enabled': False, 'status_message': None, 'min_market_funds': '10', 'max_market_funds': '1000000', 'post_only': False, 'limit_only': False, 'cancel_only': False}\n",
      "11 {'id': 'LTC-BTC', 'base_currency': 'LTC', 'quote_currency': 'BTC', 'base_min_size': '0.10000000', 'base_max_size': '2000.00000000', 'quote_increment': '0.00001000', 'display_name': 'LTC/BTC', 'status': 'online', 'margin_enabled': False, 'status_message': None, 'min_market_funds': '0.001', 'max_market_funds': '30', 'post_only': False, 'limit_only': False, 'cancel_only': False}\n",
      "12 {'id': 'LTC-EUR', 'base_currency': 'LTC', 'quote_currency': 'EUR', 'base_min_size': '0.10000000', 'base_max_size': '1000.00000000', 'quote_increment': '0.01000000', 'display_name': 'LTC/EUR', 'status': 'online', 'margin_enabled': False, 'status_message': None, 'min_market_funds': '10', 'max_market_funds': '200000', 'post_only': False, 'limit_only': False, 'cancel_only': False}\n",
      "13 {'id': 'LTC-USD', 'base_currency': 'LTC', 'quote_currency': 'USD', 'base_min_size': '0.10000000', 'base_max_size': '4000.00000000', 'quote_increment': '0.01000000', 'display_name': 'LTC/USD', 'status': 'online', 'margin_enabled': False, 'status_message': None, 'min_market_funds': '10', 'max_market_funds': '1000000', 'post_only': False, 'limit_only': False, 'cancel_only': False}\n",
      "14 {'id': 'BCH-EUR', 'base_currency': 'BCH', 'quote_currency': 'EUR', 'base_min_size': '0.01000000', 'base_max_size': '120.00000000', 'quote_increment': '0.01000000', 'display_name': 'BCH/EUR', 'status': 'online', 'margin_enabled': False, 'status_message': None, 'min_market_funds': '10', 'max_market_funds': '200000', 'post_only': False, 'limit_only': False, 'cancel_only': False}\n",
      "15 {'id': 'ETC-USD', 'base_currency': 'ETC', 'quote_currency': 'USD', 'base_min_size': '0.10000000', 'base_max_size': '5000.00000000', 'quote_increment': '0.01000000', 'display_name': 'ETC/USD', 'status': 'online', 'margin_enabled': False, 'status_message': '', 'min_market_funds': '10', 'max_market_funds': '100000', 'post_only': False, 'limit_only': False, 'cancel_only': False}\n",
      "16 {'id': 'ETC-BTC', 'base_currency': 'ETC', 'quote_currency': 'BTC', 'base_min_size': '0.10000000', 'base_max_size': '5000.00000000', 'quote_increment': '0.00001000', 'display_name': 'ETC/BTC', 'status': 'online', 'margin_enabled': False, 'status_message': '', 'min_market_funds': '0.001', 'max_market_funds': '30', 'post_only': False, 'limit_only': False, 'cancel_only': False}\n",
      "17 {'id': 'ZRX-USD', 'base_currency': 'ZRX', 'quote_currency': 'USD', 'base_min_size': '1.00000000', 'base_max_size': '150000.00000000', 'quote_increment': '0.01000000', 'display_name': 'ZRX/USD', 'status': 'online', 'margin_enabled': False, 'status_message': '', 'min_market_funds': '10', 'max_market_funds': '100000', 'post_only': False, 'limit_only': False, 'cancel_only': False}\n",
      "18 {'id': 'ZRX-BTC', 'base_currency': 'ZRX', 'quote_currency': 'BTC', 'base_min_size': '1.00000000', 'base_max_size': '150000.00000000', 'quote_increment': '0.00000001', 'display_name': 'ZRX/BTC', 'status': 'online', 'margin_enabled': False, 'status_message': '', 'min_market_funds': '0.001', 'max_market_funds': '30', 'post_only': False, 'limit_only': False, 'cancel_only': False}\n",
      "19 {'id': 'ZRX-EUR', 'base_currency': 'ZRX', 'quote_currency': 'EUR', 'base_min_size': '1.00000000', 'base_max_size': '150000.00000000', 'quote_increment': '0.01000000', 'display_name': 'ZRX/EUR', 'status': 'online', 'margin_enabled': False, 'status_message': '', 'min_market_funds': '10', 'max_market_funds': '100000', 'post_only': False, 'limit_only': False, 'cancel_only': False}\n",
      "20 {'id': 'ETC-GBP', 'base_currency': 'ETC', 'quote_currency': 'GBP', 'base_min_size': '0.10000000', 'base_max_size': '5000.00000000', 'quote_increment': '0.01000000', 'display_name': 'ETC/GBP', 'status': 'online', 'margin_enabled': False, 'status_message': None, 'min_market_funds': '10', 'max_market_funds': '100000', 'post_only': False, 'limit_only': False, 'cancel_only': False}\n",
      "21 {'id': 'ETH-GBP', 'base_currency': 'ETH', 'quote_currency': 'GBP', 'base_min_size': '0.01000000', 'base_max_size': '350.00000000', 'quote_increment': '0.01000000', 'display_name': 'ETH/GBP', 'status': 'online', 'margin_enabled': False, 'status_message': None, 'min_market_funds': '10', 'max_market_funds': '1000000', 'post_only': False, 'limit_only': False, 'cancel_only': False}\n",
      "22 {'id': 'LTC-GBP', 'base_currency': 'LTC', 'quote_currency': 'GBP', 'base_min_size': '0.10000000', 'base_max_size': '1000.00000000', 'quote_increment': '0.01000000', 'display_name': 'LTC/GBP', 'status': 'online', 'margin_enabled': False, 'status_message': None, 'min_market_funds': '10', 'max_market_funds': '1000000', 'post_only': False, 'limit_only': False, 'cancel_only': False}\n",
      "23 {'id': 'BCH-GBP', 'base_currency': 'BCH', 'quote_currency': 'GBP', 'base_min_size': '0.01000000', 'base_max_size': '120.00000000', 'quote_increment': '0.01000000', 'display_name': 'BCH/GBP', 'status': 'online', 'margin_enabled': False, 'status_message': None, 'min_market_funds': '10', 'max_market_funds': '1000000', 'post_only': False, 'limit_only': False, 'cancel_only': False}\n"
     ]
    }
   ],
   "source": [
    "resp = requests.get('https://api.gdax.com/products')\n",
    "rset = resp.json()\n",
    "for idx,data in enumerate(rset):\n",
    "    print(idx,data)"
   ]
  }
 ],
 "metadata": {
  "kernelspec": {
   "display_name": "Python 3",
   "language": "python",
   "name": "python3"
  },
  "language_info": {
   "codemirror_mode": {
    "name": "ipython",
    "version": 3
   },
   "file_extension": ".py",
   "mimetype": "text/x-python",
   "name": "python",
   "nbconvert_exporter": "python",
   "pygments_lexer": "ipython3",
   "version": "3.7.0"
  }
 },
 "nbformat": 4,
 "nbformat_minor": 2
}
