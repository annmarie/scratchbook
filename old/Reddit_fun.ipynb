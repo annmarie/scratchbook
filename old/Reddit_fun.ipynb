{
 "cells": [
  {
   "cell_type": "code",
   "execution_count": 1,
   "metadata": {},
   "outputs": [],
   "source": [
    "import requests\n",
    "import pprint as pp\n",
    "import sys\n",
    "import os\n",
    "import datetime as dt\n",
    "import time\n",
    "import pandas as pd\n",
    "import mysql.connector\n",
    "from mysql.connector import errorcode\n",
    "import argparse\n",
    "import glob\n",
    "import praw\n"
   ]
  },
  {
   "cell_type": "code",
   "execution_count": 2,
   "metadata": {},
   "outputs": [
    {
     "data": {
      "text/plain": [
       "1540997244.0149972"
      ]
     },
     "execution_count": 2,
     "metadata": {},
     "output_type": "execute_result"
    }
   ],
   "source": [
    "now = time.time()\n",
    "now\n"
   ]
  },
  {
   "cell_type": "code",
   "execution_count": 13,
   "metadata": {},
   "outputs": [],
   "source": [
    "\n",
    "def get_date(created):\n",
    "    return dt.datetime.fromtimestamp(created)\n",
    "\n",
    "\n",
    "\n",
    "reddit = praw.Reddit(client_id='5yT0zVp43WD4Cw', \n",
    "                     client_secret='F98Ouux0m3eyPzYtE28AGE39Hzk', \n",
    "                     user_agent='app001', \n",
    "                     username='amd2007', \n",
    "                     password='qaz123')"
   ]
  },
  {
   "cell_type": "code",
   "execution_count": 28,
   "metadata": {},
   "outputs": [
    {
     "data": {
      "text/plain": [
       "<praw.models.front.Front at 0x174606bf9b0>"
      ]
     },
     "execution_count": 28,
     "metadata": {},
     "output_type": "execute_result"
    }
   ],
   "source": [
    "#r_feed = reddit.subreddit('nyc')\n",
    "r_feed = reddit.front\n",
    "r_feed\n"
   ]
  },
  {
   "cell_type": "code",
   "execution_count": 45,
   "metadata": {
    "scrolled": false
   },
   "outputs": [
    {
     "name": "stdout",
     "output_type": "stream",
     "text": [
      "New research on religious violence using AI algorithms that mimic human soc\n",
      "https://www.bbc.com/news/technology-46035542\n",
      "[Shocking] My GF sisters boyfriend has a crush on her\n",
      "https://www.reddit.com/r/relationship_advice/comments/9syk5p/shocking_my_gf_sisters_boyfriend_has_a_crush_on/\n",
      "It would be great if your body could store sleep hours, like sleep for 16 h\n",
      "https://www.reddit.com/r/Showerthoughts/comments/9sthjp/it_would_be_great_if_your_body_could_store_sleep/\n",
      "(35M) My fiancee of 3 years (33F) hid her past in sex work from me; I'm tem\n",
      "https://www.reddit.com/r/relationship_advice/comments/9ssq42/35m_my_fiancee_of_3_years_33f_hid_her_past_in_sex/\n",
      "Woke up to a long winded text this morning from a girl I broke up with a co\n",
      "https://www.reddit.com/r/relationship_advice/comments/9sy0ck/woke_up_to_a_long_winded_text_this_morning_from_a/\n",
      "School is basically a recap of human history because we missed it and need \n",
      "https://www.reddit.com/r/Showerthoughts/comments/9ssfjv/school_is_basically_a_recap_of_human_history/\n",
      "The saying \"out of sight, out of mind\", does not apply when you are in your\n",
      "https://www.reddit.com/r/Showerthoughts/comments/9st0pl/the_saying_out_of_sight_out_of_mind_does_not/\n",
      "In forty years, some of the recipes that we stole from food blogs will be k\n",
      "https://www.reddit.com/r/Showerthoughts/comments/9sszcf/in_forty_years_some_of_the_recipes_that_we_stole/\n",
      "Roomie thinks shes part of our relationship\n",
      "https://www.reddit.com/r/relationship_advice/comments/9sx9kf/roomie_thinks_shes_part_of_our_relationship/\n",
      "Cheese is just a loaf of milk.\n",
      "https://www.reddit.com/r/Showerthoughts/comments/9sqfvr/cheese_is_just_a_loaf_of_milk/\n",
      "(UPDATE)(F20)Took MDMA with my friend(M21) last night and stuff happened...\n",
      "https://www.reddit.com/r/relationship_advice/comments/9sy1aa/updatef20took_mdma_with_my_friendm21_last_night/\n",
      "If \\o/ is cheering, then lol must be surrender.\n",
      "https://www.reddit.com/r/Showerthoughts/comments/9sxi1o/if_o_is_cheering_then_lol_must_be_surrender/\n",
      "The \"ueue\" in Queue aren't silent, they're just waiting for their turn.\n",
      "https://www.reddit.com/r/Showerthoughts/comments/9svjt3/the_ueue_in_queue_arent_silent_theyre_just/\n",
      "If only mosquitoes would suck fat instead of blood...\n",
      "https://www.reddit.com/r/Showerthoughts/comments/9st52f/if_only_mosquitoes_would_suck_fat_instead_of_blood/\n",
      "If you notice a stranger whistling in public, start a whistle battle with t\n",
      "https://www.reddit.com/r/Showerthoughts/comments/9swjut/if_you_notice_a_stranger_whistling_in_public/\n",
      "Pre-Existing Immunity to CRISPR Found in 96% of People in Study\n",
      "https://www.xconomy.com/boston/2018/10/29/pre-existing-immunity-to-crispr-found-in-96-of-people-in-study/\n",
      "You know you’ve become an adult when you realize that sleep is a reward not\n",
      "https://www.reddit.com/r/Showerthoughts/comments/9sxuqi/you_know_youve_become_an_adult_when_you_realize/\n",
      "You know it's a serious connection problem when your ads are buffering.\n",
      "https://www.reddit.com/r/Showerthoughts/comments/9ssypb/you_know_its_a_serious_connection_problem_when/\n",
      "Girlfriend Sexually Traumatized From Previous Ex\n",
      "https://www.reddit.com/r/relationship_advice/comments/9surjl/girlfriend_sexually_traumatized_from_previous_ex/\n",
      "Bf not sexually attracted to me anymore?\n",
      "https://www.reddit.com/r/relationship_advice/comments/9sz2nk/bf_not_sexually_attracted_to_me_anymore/\n",
      "The amount of people who think their monitor is their actual computer is pr\n",
      "https://www.reddit.com/r/Showerthoughts/comments/9sr8j5/the_amount_of_people_who_think_their_monitor_is/\n",
      "Researchers have found that one month of abstaining from cannabis use resul\n",
      "https://www.eurekalert.org/pub_releases/2018-10/mgh-omo102418.php\n",
      "Girl steals granny's last chance\n",
      "https://v.redd.it/f2u2uw60pcv11\n",
      "I’m deciding how to make the first move on my girlfriend.\n",
      "https://www.reddit.com/r/relationship_advice/comments/9sy5rg/im_deciding_how_to_make_the_first_move_on_my/\n",
      "My girlfriend has cancer, but I’ve lost interest\n",
      "https://www.reddit.com/r/relationship_advice/comments/9ss545/my_girlfriend_has_cancer_but_ive_lost_interest/\n",
      "Deliberately scaring ourselves can calm the brain, leading to a “recalibrat\n",
      "https://digest.bps.org.uk/2018/10/31/deliberately-scaring-ourselves-can-calm-the-brain-leading-to-a-recalibration-of-our-emotions/#more-35098\n",
      "How do I move on from someone who was never mine?\n",
      "https://www.reddit.com/r/relationship_advice/comments/9sy1pu/how_do_i_move_on_from_someone_who_was_never_mine/\n",
      "Is my boyfriend sexually assaulting me?\n",
      "https://www.reddit.com/r/relationship_advice/comments/9svi0h/is_my_boyfriend_sexually_assaulting_me/\n",
      "My SO is addicted to porn, and refuses have a sexual relationship with me-h\n",
      "https://www.reddit.com/r/relationship_advice/comments/9sye0k/my_so_is_addicted_to_porn_and_refuses_have_a/\n",
      "Today, millions of children will ring the door bells of countless real life\n",
      "https://www.reddit.com/r/Showerthoughts/comments/9sz03f/today_millions_of_children_will_ring_the_door/\n",
      "I (29M) lost my girlfriend (27F) to our mutual best friend.\n",
      "https://www.reddit.com/r/relationship_advice/comments/9su2o0/i_29m_lost_my_girlfriend_27f_to_our_mutual_best/\n",
      "The Wicked Witch in the Wizard of Oz must be so sexually frustrated if she \n",
      "https://www.reddit.com/r/Showerthoughts/comments/9sxf7c/the_wicked_witch_in_the_wizard_of_oz_must_be_so/\n",
      "The goal of a tutor is to get you to stop hiring them\n",
      "https://www.reddit.com/r/Showerthoughts/comments/9ssxgm/the_goal_of_a_tutor_is_to_get_you_to_stop_hiring/\n",
      "I fell asleep at the movie theatre with her\n",
      "https://www.reddit.com/r/relationship_advice/comments/9sxye0/i_fell_asleep_at_the_movie_theatre_with_her/\n",
      "Needing to pee in the middle of the night and not getting up is like arguin\n",
      "https://www.reddit.com/r/Showerthoughts/comments/9stf55/needing_to_pee_in_the_middle_of_the_night_and_not/\n",
      "Any figure of Ant-man and the Wasp is to scale.\n",
      "https://www.reddit.com/r/Showerthoughts/comments/9stxsu/any_figure_of_antman_and_the_wasp_is_to_scale/\n",
      "[21f] is this harassment?\n",
      "https://www.reddit.com/r/relationship_advice/comments/9sxbgq/21f_is_this_harassment/\n",
      "3% of children hit daily activity target. Only one in 30 children does the \n",
      "https://www.exeter.ac.uk/news/featurednews/title_689978_en.html\n",
      "New research suggests that LSD reduces communication between brain regions \n",
      "https://www.media.uzh.ch/en/Press-Releases/2018/Perception_LSD.html\n",
      "If bedbugs are found on beds, the cockroach must’ve been found on a rather \n",
      "https://www.reddit.com/r/Showerthoughts/comments/9sy680/if_bedbugs_are_found_on_beds_the_cockroach_mustve/\n",
      "Anti-vaxxers probably refuse to download anti-virus software because they a\n",
      "https://www.reddit.com/r/Showerthoughts/comments/9szgwl/antivaxxers_probably_refuse_to_download_antivirus/\n",
      "My [27f] sister [27f] and I got into a fight over something dumb, she refus\n",
      "https://www.reddit.com/r/relationship_advice/comments/9szno1/my_27f_sister_27f_and_i_got_into_a_fight_over/\n",
      "Complete lack of flirting or behavior indicating attraction from my SO\n",
      "https://www.reddit.com/r/relationship_advice/comments/9sysux/complete_lack_of_flirting_or_behavior_indicating/\n",
      "Difficulty sleeping in same bed with partner.\n",
      "https://www.reddit.com/r/relationship_advice/comments/9sybkc/difficulty_sleeping_in_same_bed_with_partner/\n",
      "Anxiety killed something beautiful. (34f/,30m)\n",
      "https://www.reddit.com/r/relationship_advice/comments/9sysfn/anxiety_killed_something_beautiful_34f30m/\n",
      "Help me understand this objectively: I tested my fiancé and I came up with \n",
      "https://www.reddit.com/r/relationship_advice/comments/9sqka2/help_me_understand_this_objectively_i_tested_my/\n",
      "How do I convince my (F24) husband (M24) to get fit?\n",
      "https://www.reddit.com/r/relationship_advice/comments/9szcra/how_do_i_convince_my_f24_husband_m24_to_get_fit/\n",
      "Somewhere in the world there's the pizza cutter that cut the most pizza's i\n",
      "https://www.reddit.com/r/Showerthoughts/comments/9sy1xl/somewhere_in_the_world_theres_the_pizza_cutter/\n",
      "If you bust a nut in a Walmart then it's a walnut.\n",
      "https://www.reddit.com/r/Showerthoughts/comments/9sxj6j/if_you_bust_a_nut_in_a_walmart_then_its_a_walnut/\n",
      "Every fish you catch and release goes home with an alien abduction story.\n",
      "https://www.reddit.com/r/Showerthoughts/comments/9svp71/every_fish_you_catch_and_release_goes_home_with/\n"
     ]
    }
   ],
   "source": [
    "topics_dict = { \"title\":[], \n",
    "                \"score\":[], \n",
    "                \"id\":[], \n",
    "               \"url\":[], \n",
    "                \"comms_num\": [], \n",
    "                \"created\": [],\n",
    "                \"body\":[]\n",
    "              }\n",
    "\n",
    "\n",
    "for submission in r_feed.hot(limit=50):\n",
    "    topics_dict[\"title\"].append(submission.title)\n",
    "    topics_dict[\"score\"].append(submission.score)\n",
    "    topics_dict[\"id\"].append(submission.id)\n",
    "    topics_dict[\"url\"].append(submission.url)\n",
    "    topics_dict[\"comms_num\"].append(submission.num_comments)\n",
    "    topics_dict[\"created\"].append(get_date(submission.created))\n",
    "    topics_dict[\"body\"].append(submission.selftext)\n",
    "    #topics_data.to_csv('FILENAME.csv', index=False) \n",
    "    \n",
    "topics_data = pd.DataFrame(topics_dict)\n",
    "for idx, title in topics_data['title'].items():\n",
    "    print(title[:75])\n",
    "    print(topics_data['url'][idx])\n",
    "    "
   ]
  },
  {
   "cell_type": "code",
   "execution_count": null,
   "metadata": {},
   "outputs": [],
   "source": []
  }
 ],
 "metadata": {
  "kernelspec": {
   "display_name": "Python 3",
   "language": "python",
   "name": "python3"
  },
  "language_info": {
   "codemirror_mode": {
    "name": "ipython",
    "version": 3
   },
   "file_extension": ".py",
   "mimetype": "text/x-python",
   "name": "python",
   "nbconvert_exporter": "python",
   "pygments_lexer": "ipython3",
   "version": "3.7.1"
  }
 },
 "nbformat": 4,
 "nbformat_minor": 2
}
