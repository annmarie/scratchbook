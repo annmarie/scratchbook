{
 "cells": [
  {
   "cell_type": "code",
   "execution_count": 1,
   "metadata": {},
   "outputs": [],
   "source": [
    "import requests\n",
    "import pprint as pp\n",
    "import sys\n",
    "import os\n",
    "import datetime as dt\n",
    "import time\n",
    "import pandas as pd\n",
    "import mysql.connector\n",
    "from mysql.connector import errorcode\n",
    "import argparse\n",
    "import glob\n",
    "import praw\n"
   ]
  },
  {
   "cell_type": "code",
   "execution_count": 2,
   "metadata": {},
   "outputs": [],
   "source": [
    "reddit = praw.Reddit(client_id='5yT0zVp43WD4Cw', \n",
    "                     client_secret='F98Ouux0m3eyPzYtE28AGE39Hzk', \n",
    "                     user_agent='app001', \n",
    "                     username='amd2007', \n",
    "                     password='qaz123')"
   ]
  },
  {
   "cell_type": "code",
   "execution_count": 3,
   "metadata": {
    "scrolled": true
   },
   "outputs": [],
   "source": [
    "def fetch_data(sub, limit=30):\n",
    "    sub = reddit.subreddit(sub)\n",
    "    items = []\n",
    "    for submission in sub.hot(limit=limit):\n",
    "        items.append(submission.title + ' ' + \n",
    "            'https://i.reddit.com/r/'+sub.display_name+'/comments/' + submission.id)\n",
    "\n",
    "    for item in items:\n",
    "        print(item)\n",
    "        print('---')"
   ]
  },
  {
   "cell_type": "code",
   "execution_count": 4,
   "metadata": {},
   "outputs": [
    {
     "name": "stdout",
     "output_type": "stream",
     "text": [
      "One year old immediately hugs a stranger when he realizes they both have the same limb difference https://i.reddit.com/r/popular/comments/9t4l6e\n",
      "---\n",
      "Can you legally steal your own property hours after a police officer hands it to the thief? https://i.reddit.com/r/popular/comments/9t06kd\n",
      "---\n",
      "Mexico’s Supreme Court Legalizes Cabbabis For Recreational Use https://i.reddit.com/r/popular/comments/9t48k1\n",
      "---\n",
      "What is nobody ever prepared for? https://i.reddit.com/r/popular/comments/9sz79k\n",
      "---\n",
      "Doom themed office Halloween party https://i.reddit.com/r/popular/comments/9t3spo\n",
      "---\n",
      "Our Halloween Uber driver asked us to pose for a picture with her that she could send to scare her husband-who was worried about her driving out late. Mission accomplished. https://i.reddit.com/r/popular/comments/9t3g53\n",
      "---\n",
      "“Condescending Online Man” https://i.reddit.com/r/popular/comments/9szra3\n",
      "---\n",
      "Well done sir. Well done. https://i.reddit.com/r/popular/comments/9t3mbx\n",
      "---\n",
      "AITA, for telling an overweight girl to lose some weight? https://i.reddit.com/r/popular/comments/9sy52q\n",
      "---\n",
      "The rarest beanie babies ever sold https://i.reddit.com/r/popular/comments/9t3w3a\n",
      "---\n",
      "[Shocking] My GF sisters boyfriend has a crush on her https://i.reddit.com/r/popular/comments/9syk5p\n",
      "---\n",
      "Facebook has started banning accounts affiliated with far-right group the Proud Boys https://i.reddit.com/r/popular/comments/9sxe1y\n",
      "---\n",
      "how we share the wealth https://i.reddit.com/r/popular/comments/9t4c7b\n",
      "---\n",
      "Tom and Jerry is one of the most distinct case of child v.s. adult perspective in which as a child you think Jerry is witty and correct but as an adult you see that Tom is being bullied by Jerry whilst attempting to live his life as a normal house cat. https://i.reddit.com/r/popular/comments/9t3sg5\n",
      "---\n",
      "The woooooooorst https://i.reddit.com/r/popular/comments/9t4rvn\n",
      "---\n",
      "Not without me! https://i.reddit.com/r/popular/comments/9t3i5s\n",
      "---\n",
      "I can only have sex when I’m drunk? https://i.reddit.com/r/popular/comments/9szle7\n",
      "---\n",
      "The new iPad makes me want Android tablets to be great again https://i.reddit.com/r/popular/comments/9sz4zv\n",
      "---\n",
      "What are the Deadly Sins that will make you stop reading a book? https://i.reddit.com/r/popular/comments/9t3ev5\n",
      "---\n",
      "CMV: Removing or changing Apu in The Simpsons isn't constructive to South Asian stereotypes https://i.reddit.com/r/popular/comments/9syqan\n",
      "---\n",
      "How likely were you to get shot and killed as a male in the Wild West? https://i.reddit.com/r/popular/comments/9sygvw\n",
      "---\n",
      "Mike Pence Is Under Fire for Appearing with a Fake Rabbi to Commemorate the Pittsburgh Shooting https://i.reddit.com/r/popular/comments/9t3git\n",
      "---\n",
      "God gave my sister cancer https://i.reddit.com/r/popular/comments/9t15fq\n",
      "---\n",
      "\"Wait for me, I wanna be in the picture too!\" https://i.reddit.com/r/popular/comments/9t32va\n",
      "---\n",
      "[homemade] Pumpkin shaped Sourdough bread https://i.reddit.com/r/popular/comments/9t3uww\n",
      "---\n",
      "Self-portrait, oil on linen, 50x60cm https://i.reddit.com/r/popular/comments/9t3wb2\n",
      "---\n",
      "Wearing the 'wrong' colours for your skin tone. Everything makes sense now and I found my style! https://i.reddit.com/r/popular/comments/9sylkt\n",
      "---\n",
      "Company not matching 401k even though policy says they will. https://i.reddit.com/r/popular/comments/9szcvy\n",
      "---\n",
      "I love the feeling of being alone in a multiplayer game. https://i.reddit.com/r/popular/comments/9sxjks\n",
      "---\n",
      "I just lost a job opportunity because I told off a Hun on LinkedIn 3 months ago https://i.reddit.com/r/popular/comments/9syq95\n",
      "---\n"
     ]
    }
   ],
   "source": [
    "fetch_data('popular')"
   ]
  },
  {
   "cell_type": "code",
   "execution_count": 5,
   "metadata": {
    "scrolled": false
   },
   "outputs": [
    {
     "name": "stdout",
     "output_type": "stream",
     "text": [
      "Weekly Discussion Thread - Week of October 29, 2018 https://i.reddit.com/r/nyc/comments/9s9x81\n",
      "---\n",
      "Missing Person - NYC UWS - 29M https://i.reddit.com/r/nyc/comments/9t3uxs\n",
      "---\n",
      "My husband is the 432 Park Avenue building for Halloween. https://i.reddit.com/r/nyc/comments/9sz7z2\n",
      "---\n",
      "Seems about right https://i.reddit.com/r/nyc/comments/9t0929\n",
      "---\n",
      "The whole Effin' thing. Best Building in NYC. Im on the roof of the building casting a shadow. 6 frames stitched to 1 https://i.reddit.com/r/nyc/comments/9svgdt\n",
      "---\n",
      "Mom tried to commit suicide and now I'm running out of options. https://i.reddit.com/r/nyc/comments/9t4tso\n",
      "---\n",
      "From the top of 30 Rock last night https://i.reddit.com/r/nyc/comments/9sy34i\n",
      "---\n",
      "G Train is not running https://i.reddit.com/r/nyc/comments/9t3rxk\n",
      "---\n",
      "Outlaw King https://i.reddit.com/r/nyc/comments/9sy1j8\n",
      "---\n",
      "NYC should have cameras at every intersection to fine people for this nonsense https://i.reddit.com/r/nyc/comments/9t02lg\n",
      "---\n",
      "Two Sisters from Saudi Arabia Recently Applied for Political Asylum in the U.S. — Now They’re Dead https://i.reddit.com/r/nyc/comments/9t2w83\n",
      "---\n",
      "WTC Getting Batty this Halloween https://i.reddit.com/r/nyc/comments/9t2cl1\n",
      "---\n",
      "If you have ever been on Wall St. in the morning maybe you have met Taco the dog. Today he was dressed up for Halloween and roaming free. https://i.reddit.com/r/nyc/comments/9t4vye\n",
      "---\n",
      "Uber driver opening door for passenger struck and killed by car in Manhattan https://i.reddit.com/r/nyc/comments/9syoo8\n",
      "---\n",
      "11 Week Old Great Pyrenees in Need of Rehoming https://i.reddit.com/r/nyc/comments/9t5s37\n",
      "---\n",
      "Man behind creation of MetroCard dies at 69 https://i.reddit.com/r/nyc/comments/9t28no\n",
      "---\n",
      "Block in Brooklyn Heights famed for its popularity with trick-or-treaters was defaced with Nazi symbols and other slurs the night before Halloween https://i.reddit.com/r/nyc/comments/9t0bna\n",
      "---\n",
      "NYC’s school diversity plan could lead to another ‘white flight’ https://i.reddit.com/r/nyc/comments/9sz2co\n",
      "---\n",
      "Express train running 34th Street–Herald Square https://i.reddit.com/r/nyc/comments/9svb1h\n",
      "---\n",
      "Saw this monstrosity on the Hudson today https://i.reddit.com/r/nyc/comments/9t4wqe\n",
      "---\n",
      "WANTED: Trio savagely assaults, robs teen in Sunset Park https://i.reddit.com/r/nyc/comments/9t5sgc\n",
      "---\n",
      "Shades of Autumn (Downtown Brooklyn) https://i.reddit.com/r/nyc/comments/9t3cu6\n",
      "---\n",
      "How the tables have turned... https://i.reddit.com/r/nyc/comments/9t2wqn\n",
      "---\n",
      "Citizen app delivering again. https://i.reddit.com/r/nyc/comments/9srei0\n",
      "---\n",
      "Left Shark on the subway (Halloween, 2015) https://i.reddit.com/r/nyc/comments/9t53dg\n",
      "---\n",
      "GOP ditches Ocasio-Cortez’s opponent after domestic violence claims surface https://i.reddit.com/r/nyc/comments/9t12kn\n",
      "---\n",
      "Mourner refuses to shake de Blasio’s hand at terror attack memorial https://i.reddit.com/r/nyc/comments/9t3dx5\n",
      "---\n",
      "Casually strolling NY https://i.reddit.com/r/nyc/comments/9t2a24\n",
      "---\n",
      "|4/26/19| L TRAIN Subway Btw Manhattan & Brooklyn Shuts Down on Friday, April 26, 2019 https://i.reddit.com/r/nyc/comments/9t1nxo\n",
      "---\n",
      "Downtown as seen from the SI Ferry at 6:30 AM https://i.reddit.com/r/nyc/comments/9sxr7f\n",
      "---\n"
     ]
    }
   ],
   "source": [
    "fetch_data('nyc')"
   ]
  },
  {
   "cell_type": "code",
   "execution_count": 6,
   "metadata": {
    "scrolled": false
   },
   "outputs": [
    {
     "name": "stdout",
     "output_type": "stream",
     "text": [
      "TIL about asteroid J002E3, which was discovered 16 years ago orbiting the earth. It turned out to be the 3rd stage of Apollo 12, which had come back to earth orbit after going around the sun for over 30 years. https://i.reddit.com/r/todayilearned/comments/9t34kc\n",
      "---\n",
      "TIL A French doctor lured as many as 60 Jews into his home under the pretence of safety from the Nazi occupiers. He then killed them with his own gas chamber. https://i.reddit.com/r/todayilearned/comments/9t451v\n",
      "---\n",
      "TIL Batman the animated series issued a standing order to the animation department that all backgrounds be painted using light colors on black paper (as opposed to the industry standard of dark colors on white paper) https://i.reddit.com/r/todayilearned/comments/9t094l\n",
      "---\n",
      "TIL that, in the United States, if you're found not guilty of a crime by reason of insanity, you can be involuntarily confined in a mental institution indefinitely, regardless of what the maximum sentence would have been had you been found guilty https://i.reddit.com/r/todayilearned/comments/9szq5r\n",
      "---\n",
      "TIL that Mississippi didn't ratify the 13th Amendment until 2013, when a college professor decided to do some research after watching the film 'Lincoln' and noticed that Mississippi had never officially ratified it. https://i.reddit.com/r/todayilearned/comments/9t05l2\n",
      "---\n",
      "TIL that Campbell's Green Bean Casserole is so popular that Campbell's estimates 40% of their Cream of Mushroom Soup is used to make the dish https://i.reddit.com/r/todayilearned/comments/9t0mhy\n",
      "---\n",
      "TIL while recording the original Simpsons \"Treehouse of Horror\", James Earl Jones chewed on a cookie close to his microphone in order to get the alien drooling sounds just right for Alien Chief Serak. https://i.reddit.com/r/todayilearned/comments/9t3p4i\n",
      "---\n",
      "TIL that in 1920, during US Prohibition, a Johns Hopkins psychologist conducted a study to see whether or not people are better at playing Darts while drunk. The government allowed him to purchase 34 gallons of whiskey, as scientific research was a valid exception to Prohibition. https://i.reddit.com/r/todayilearned/comments/9t00y3\n",
      "---\n",
      "TIL Henry Cavill was dubbed 'the most unlucky man in Hollywood' by Empire Magazine in 2005 after missing out on the lead roles for Superman, James Bond and Twilight https://i.reddit.com/r/todayilearned/comments/9t485i\n",
      "---\n",
      "TIL that researchers at UC Santa Barbara, intending to show how statistics can be used misleadingly, received statistically significant results when scanning a salmon with fMRI to show that it's brain responded differently to photos of different social situations. The salmon was dead. https://i.reddit.com/r/todayilearned/comments/9t3bc4\n",
      "---\n",
      "TIL Gray Whale couples need a 3rd Whale to act as a brace while they mate so they don't float apart midway through. https://i.reddit.com/r/todayilearned/comments/9sywbb\n",
      "---\n",
      "TIL there is a new drug for treating schizophrenia that consists of being given a shot 4 times a year, making it the first successful medication of its kind that doesn’t require patients to take daily pills. https://i.reddit.com/r/todayilearned/comments/9sx5ot\n",
      "---\n",
      "TIL that Otto von Bismarck challenged a scientist to a duel, but backed out after learning that his opponent choose to fight with two pork sausages, one infected with roundworm. https://i.reddit.com/r/todayilearned/comments/9sx2kb\n",
      "---\n",
      "TIL Vikings actually arrived in Greenland at least 100 years earlier than the Inuit, who now make up about 90% of Greenland's population https://i.reddit.com/r/todayilearned/comments/9syjde\n",
      "---\n",
      "TIL A hidden ecosystem seems to lurk six miles below the Mariana Trench, offering clues for finding life across the solar system. https://i.reddit.com/r/todayilearned/comments/9sxf3k\n",
      "---\n",
      "TIL Guinness records are applied for and not sought out by Guinness (such as a 118 yr old Bolivian woman who beats the current Guinness record holder by 6 years) meaning many Guinness record holders may not actually be world record holders. https://i.reddit.com/r/todayilearned/comments/9swaxh\n",
      "---\n",
      "TIL that for free, the US Treasury Department provides blind US citizens with a machine to read their currency for them. \"The iBill is compact enough to slip into a side pocket. It can identify all US currency,\" They have also developed free apps to read currency with a smartphone. https://i.reddit.com/r/todayilearned/comments/9swd5u\n",
      "---\n",
      "TIL there is a Jewish community in Belmonte, Portugal that survived in hiding for centuries. They opened their current synagogue in 1996. https://i.reddit.com/r/todayilearned/comments/9t0z01\n",
      "---\n",
      "TIL Blu-ray Discs use blue lasers to read and write to the disc as opposed to the traditional red, which allows for substantially more data to be stored due the the blue light's shorter wavelength https://i.reddit.com/r/todayilearned/comments/9t1tzn\n",
      "---\n",
      "TIL Even though North and South America are physically attached, there is no road that connects the two continents. https://i.reddit.com/r/todayilearned/comments/9t0oak\n",
      "---\n",
      "TIL About charities that take used pacemakers from deceased people and donate them to people in third world countries https://i.reddit.com/r/todayilearned/comments/9t3nen\n",
      "---\n",
      "TIL there's an instrument that makes the horror/suspense noises in some movies and video games https://i.reddit.com/r/todayilearned/comments/9t3mpv\n",
      "---\n",
      "TIL that the feeling that time passes faster as you age is actually a thing, and it happens because of the pace of new memories your brain records https://i.reddit.com/r/todayilearned/comments/9sypip\n",
      "---\n",
      "TIL of Thomas Francis Meagher, born 1823. He was an Irish nationalist, got exiled to Tasmania, escaped to New York, visited Costa Rica, fought in the Civil War, became governor of Montana, and died when he fell off a boat at age 43. https://i.reddit.com/r/todayilearned/comments/9t3qmb\n",
      "---\n",
      "TIL the Black Footed Cat of South Africa is the smallest cat in the world weighing in at around 4lbs, yet is the deadliest cat on earth. This tiny, and by some accounts adorable kitty is capable of traveling 20 miles in a night and has a take down/kill accuracy of around 60%. https://i.reddit.com/r/todayilearned/comments/9t59x6\n",
      "---\n",
      "TIL - According to the Jewish law, a widow is not permitted to own a dog, for concern she may engage in bestiality with it https://i.reddit.com/r/todayilearned/comments/9t1d5n\n",
      "---\n",
      "TIL that, due to ADA requirements, elevator chimes must sound once when it's going up, or twice if it's going down. This is to assist those who are unable to see. https://i.reddit.com/r/todayilearned/comments/9svl8s\n",
      "---\n",
      "TIL that in the time before user accounts and passwords, computers used physical locks & keys to prevent keyboard input, access to the hard drive, or other unauthorized access. https://i.reddit.com/r/todayilearned/comments/9szz3n\n",
      "---\n",
      "TIL the emoji Movie had an 8% approval rating, was ranked \"Worst Movie of 2017\" by multiple major outlets, and yet still made four times its production budget. https://i.reddit.com/r/todayilearned/comments/9t4z6d\n",
      "---\n",
      "TIL Gladiators didn't normally fight to the death, as they were too expensive to prepare and maintain, making it to risky of a business to sustain. For there to be a fight to the death, a sponsor would have to pay extra and also compensate the lanista for the lost gladiator. https://i.reddit.com/r/todayilearned/comments/9su1d6\n",
      "---\n"
     ]
    }
   ],
   "source": [
    "fetch_data('todayilearned')"
   ]
  },
  {
   "cell_type": "code",
   "execution_count": null,
   "metadata": {},
   "outputs": [],
   "source": []
  }
 ],
 "metadata": {
  "kernelspec": {
   "display_name": "Python 3",
   "language": "python",
   "name": "python3"
  },
  "language_info": {
   "codemirror_mode": {
    "name": "ipython",
    "version": 3
   },
   "file_extension": ".py",
   "mimetype": "text/x-python",
   "name": "python",
   "nbconvert_exporter": "python",
   "pygments_lexer": "ipython3",
   "version": "3.7.0"
  }
 },
 "nbformat": 4,
 "nbformat_minor": 2
}
