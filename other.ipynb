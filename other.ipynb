{
 "cells": [
  {
   "cell_type": "code",
   "execution_count": 1,
   "metadata": {},
   "outputs": [],
   "source": [
    "import requests\n",
    "import pprint as pp\n",
    "import datetime\n",
    "\n",
    "\n",
    "def get_date(raw_date):\n",
    "    return dt.datetime.fromtimestamp(raw_date)\n"
   ]
  },
  {
   "cell_type": "code",
   "execution_count": 2,
   "metadata": {},
   "outputs": [
    {
     "name": "stdout",
     "output_type": "stream",
     "text": [
      "NYC Forcast:  Clear. Overcast starting later this evening. Light rain tomorrow and Tuesday, with high temperatures peaking at 65°F on Tuesday. Clear for the hour.\n"
     ]
    }
   ],
   "source": [
    "resp = requests.get('https://api.darksky.net/forecast/dcb4f74964e7a1327be2b2b23557c927/42.3601,-71.0589')\n",
    "rset = resp.json()\n",
    "summary = [\n",
    "    rset['currently']['summary']+\".\",\n",
    "    rset['hourly']['summary'],\n",
    "    rset['daily']['summary'],\n",
    "    rset['minutely']['summary'],\n",
    "]\n",
    "\n",
    "\n",
    "print(\"NYC Forcast: \", \" \".join(summary))\n",
    "\n",
    "\n"
   ]
  }
 ],
 "metadata": {
  "kernelspec": {
   "display_name": "Python 3",
   "language": "python",
   "name": "python3"
  },
  "language_info": {
   "codemirror_mode": {
    "name": "ipython",
    "version": 3
   },
   "file_extension": ".py",
   "mimetype": "text/x-python",
   "name": "python",
   "nbconvert_exporter": "python",
   "pygments_lexer": "ipython3",
   "version": "3.7.0"
  }
 },
 "nbformat": 4,
 "nbformat_minor": 2
}
