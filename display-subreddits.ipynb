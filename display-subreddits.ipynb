{
 "cells": [
  {
   "cell_type": "code",
   "execution_count": 11,
   "metadata": {},
   "outputs": [
    {
     "name": "stdout",
     "output_type": "stream",
     "text": [
      "nyc\n---\n"
     ]
    },
    {
     "name": "stdout",
     "output_type": "stream",
     "text": [
      "He must be really mad then https://i.reddit.com/r/nyc/comments/9vfx5v\n---\nWSJ: New York’s MTA Chairman Joe Lhota Resigns https://i.reddit.com/r/nyc/comments/9vl9ro\n---\nWe do care [taken earlier today] https://i.reddit.com/r/nyc/comments/9vi9w6\n---\nNew York’s MTA Chairman Joe Lhota Resigns https://i.reddit.com/r/nyc/comments/9vlc9o\n---\nM.T.A. Chairman, Tasked to Fix New York’s Subway Problems, Resigns https://i.reddit.com/r/nyc/comments/9vltfr\n---\nMarijuana enforcement declines dramatically in New York City https://i.reddit.com/r/nyc/comments/9vc04b\n---\nWhite Supremacists post flyers in Bronx for upcoming demonstration https://i.reddit.com/r/nyc/comments/9vln6t\n---\n22nd @650 https://i.reddit.com/r/nyc/comments/9vfctd\n---\nHot Duck is Back!!! https://i.reddit.com/r/nyc/comments/9vgi2n\n---\nRockefeller Christmas Tree on the highway this morning! https://i.reddit.com/r/nyc/comments/9vhgoz\n---\n"
     ]
    }
   ],
   "source": [
    "from reddit_client import display_subreddits\n",
    "\n",
    "subreddits = ['nyc']\n",
    "display_subreddits(subreddits, 10)\n"
   ]
  },
  {
   "cell_type": "code",
   "execution_count": 12,
   "metadata": {},
   "outputs": [],
   "source": []
  },
  {
   "cell_type": "code",
   "execution_count": null,
   "metadata": {},
   "outputs": [],
   "source": []
  }
 ],
 "metadata": {
  "kernelspec": {
   "display_name": "Python 3",
   "language": "python",
   "name": "python3"
  },
  "language_info": {
   "codemirror_mode": {
    "name": "ipython",
    "version": 3
   },
   "file_extension": ".py",
   "mimetype": "text/x-python",
   "name": "python",
   "nbconvert_exporter": "python",
   "pygments_lexer": "ipython3",
   "version": "3.7.0"
  }
 },
 "nbformat": 4,
 "nbformat_minor": 2
}
