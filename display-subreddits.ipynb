{
 "cells": [
  {
   "cell_type": "code",
   "execution_count": 1,
   "metadata": {},
   "outputs": [
    {
     "name": "stdout",
     "output_type": "stream",
     "text": [
      "uspolitics\n",
      "---\n",
      "Fox News says the migrant caravan will bring disease outbreaks. That’s xenophobic nonsense. https://i.reddit.com/r/uspolitics/comments/9tbmqa\n",
      "---\n",
      "The Caravan https://i.reddit.com/r/uspolitics/comments/9t8ak1\n",
      "---\n",
      "Republican Pilot Sully Lands in Middle of Midterm Politics by Slamming GOP https://i.reddit.com/r/uspolitics/comments/9tdezg\n",
      "---\n",
      "Read the Emails: The Trump Campaign and Roger Stone https://i.reddit.com/r/uspolitics/comments/9tbvqb\n",
      "---\n",
      "Roger Stone Sold Himself to Trump’s Campaign as a WikiLeaks Pipeline. Was He? https://i.reddit.com/r/uspolitics/comments/9tbve2\n",
      "---\n",
      "Republican Pilot Sully Lands in Middle of Midterm Politics by Slamming GOP https://i.reddit.com/r/uspolitics/comments/9tdgwt\n",
      "---\n",
      "Here's what to do if you're turned away at the polls https://i.reddit.com/r/uspolitics/comments/9tbprp\n",
      "---\n",
      "Trump shocks with racist new ad days before midterms https://i.reddit.com/r/uspolitics/comments/9t6ovh\n",
      "---\n",
      "Bernie Sanders: \"We don’t use bad words in the senate... we starve little children, we bomb buses of children, and give tax breaks to billionaires, but we don’t use bad words” https://i.reddit.com/r/uspolitics/comments/9t4lso\n",
      "---\n",
      "GOP poll may have Wasserman Schultz and Canova tied - The Floridian https://i.reddit.com/r/uspolitics/comments/9tc1jg\n",
      "---\n"
     ]
    }
   ],
   "source": [
    "from reddit_client import display_subreddits\n",
    "\n",
    "subreddits = ['uspolitics']\n",
    "display_subreddits(subreddits, 10)\n"
   ]
  },
  {
   "cell_type": "code",
   "execution_count": null,
   "metadata": {},
   "outputs": [],
   "source": []
  }
 ],
 "metadata": {
  "kernelspec": {
   "display_name": "Python 3",
   "language": "python",
   "name": "python3"
  },
  "language_info": {
   "codemirror_mode": {
    "name": "ipython",
    "version": 3
   },
   "file_extension": ".py",
   "mimetype": "text/x-python",
   "name": "python",
   "nbconvert_exporter": "python",
   "pygments_lexer": "ipython3",
   "version": "3.7.0"
  }
 },
 "nbformat": 4,
 "nbformat_minor": 2
}
