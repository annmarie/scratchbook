{
 "cells": [
  {
   "cell_type": "code",
   "execution_count": 3,
   "metadata": {},
   "outputs": [
    {
     "name": "stdout",
     "output_type": "stream",
     "text": [
      "nycnews\n",
      "---\n",
      "New York Archdiocese Appears Likely to Shutter More Churches https://i.reddit.com/r/nycnews/comments/2pcrro\n",
      "---\n",
      "After 45 Years, Manhattan Clerk Is Issuing His Last Call for Jury Duty https://i.reddit.com/r/nycnews/comments/2oywd4\n",
      "---\n",
      "We need the light bulbs changed. https://i.reddit.com/r/nycnews/comments/y9egn\n",
      "---\n",
      "Cops Armed With Tape Measures Crack Down On SoHo Street Vendors https://i.reddit.com/r/nycnews/comments/ts6jg\n",
      "---\n",
      "Pizza shop owner charged with drug sale https://i.reddit.com/r/nycnews/comments/try6r\n",
      "---\n",
      "Bad son gets off with no jail after selling mom’s personal info to ID-theft ring https://i.reddit.com/r/nycnews/comments/try5y\n",
      "---\n",
      "Landmark Brooklyn Heights Building Bought By \"Slumlord\" https://i.reddit.com/r/nycnews/comments/try4v\n",
      "---\n",
      "West Village Rape Suspect Indicted https://i.reddit.com/r/nycnews/comments/try44\n",
      "---\n",
      "Fundraiser For Alleged Child Molester In South Williamsburg Draws Protest, Arrests https://i.reddit.com/r/nycnews/comments/try2z\n",
      "---\n",
      "Cops On Track To Write 269,000 Fewer Traffic Tickets This Year https://i.reddit.com/r/nycnews/comments/try26\n",
      "---\n"
     ]
    }
   ],
   "source": [
    "from reddit_client import display_subreddits\n",
    "\n",
    "subreddits = ['nycnews']\n",
    "display_subreddits(subreddits, 10)\n"
   ]
  },
  {
   "cell_type": "code",
   "execution_count": null,
   "metadata": {},
   "outputs": [],
   "source": []
  },
  {
   "cell_type": "code",
   "execution_count": null,
   "metadata": {},
   "outputs": [],
   "source": []
  }
 ],
 "metadata": {
  "kernelspec": {
   "display_name": "Python 3",
   "language": "python",
   "name": "python3"
  },
  "language_info": {
   "codemirror_mode": {
    "name": "ipython",
    "version": 3
   },
   "file_extension": ".py",
   "mimetype": "text/x-python",
   "name": "python",
   "nbconvert_exporter": "python",
   "pygments_lexer": "ipython3",
   "version": "3.7.0"
  }
 },
 "nbformat": 4,
 "nbformat_minor": 2
}
