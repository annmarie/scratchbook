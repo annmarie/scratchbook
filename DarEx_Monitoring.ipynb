{
 "cells": [
  {
   "cell_type": "code",
   "execution_count": 1,
   "metadata": {},
   "outputs": [
    {
     "name": "stdout",
     "output_type": "stream",
     "text": [
      "     43      47    2862\n\n"
     ]
    },
    {
     "name": "stdout",
     "output_type": "stream",
     "text": [
      "     25      26    1656\n\n"
     ]
    },
    {
     "name": "stdout",
     "output_type": "stream",
     "text": [
      "     28      31    1900\n\n"
     ]
    }
   ],
   "source": [
    "import sh\n",
    "\n",
    "\n",
    "ips = [\n",
    "    '54.86.75.213',   # Batch 001\n",
    "    '35.175.243.158', # Batch 002\n",
    "    '18.209.167.244', # Batch 003\n",
    "]\n",
    "\n",
    "#cmd = \"cd active_work;python3 hardcopy_screens.py\"\n",
    "cmd = \"ls active_work/Data | wc\"\n",
    "\n",
    "for host in (\"ubuntu@{}\".format(ip) for ip in ips):\n",
    "    print(sh.ssh(\"-i\", '~/daramc.pem', host, cmd))\n"
   ]
  },
  {
   "cell_type": "code",
   "execution_count": null,
   "metadata": {},
   "outputs": [],
   "source": []
  }
 ],
 "metadata": {
  "kernelspec": {
   "display_name": "Python 3",
   "language": "python",
   "name": "python3"
  },
  "language_info": {
   "codemirror_mode": {
    "name": "ipython",
    "version": 3
   },
   "file_extension": ".py",
   "mimetype": "text/x-python",
   "name": "python",
   "nbconvert_exporter": "python",
   "pygments_lexer": "ipython3",
   "version": "3.7.0"
  }
 },
 "nbformat": 4,
 "nbformat_minor": 2
}
